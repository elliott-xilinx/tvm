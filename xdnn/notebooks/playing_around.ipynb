{
 "cells": [
  {
   "cell_type": "code",
   "execution_count": null,
   "metadata": {},
   "outputs": [],
   "source": []
  },
  {
   "cell_type": "code",
   "execution_count": null,
   "metadata": {},
   "outputs": [],
   "source": [
    "import os\n",
    "import tvm\n",
    "import nnvm\n",
    "import topi\n",
    "\n",
    "import nnvm.symbol as sb\n",
    "from tvm.contrib import graph_runtime\n",
    "\n",
    "import numpy as np\n",
    "import tensorflow as tf\n",
    "\n",
    "EXAMPLE = 1\n",
    "target, target_host = 'llvm', 'llvm'\n",
    "ctx = tvm.cpu(0)\n",
    "\n",
    "os.environ['XDNN_VERBOSE'] = \"1\""
   ]
  },
  {
   "cell_type": "code",
   "execution_count": null,
   "metadata": {
    "scrolled": true
   },
   "outputs": [],
   "source": [
    "import xdnn\n"
   ]
  },
  {
   "cell_type": "code",
   "execution_count": null,
   "metadata": {},
   "outputs": [],
   "source": [
    "platform = '1525'\n",
    "\n",
    "config = {\n",
    "    'platform': platform,\n",
    "    'xclbin': \"../../../../MLsuite/overlaybins/\" + platform + \"/overlay_4.xclbin\",\n",
    "    'memory': 9,\n",
    "    'dsp': 96,\n",
    "    'netcfg': \"work/tvm_compiler.json\",\n",
    "    #'fromtensorflow': False,\n",
    "    'weights_name': \"weights\", \n",
    "    #datadir': \"work/weights_data\",\n",
    "    'quantizecfg': \"\", # Empty for now to test if quantization is needed in this simple example\n",
    "    'pngfile': \"graph.png\",\n",
    "    'verbose': True\n",
    "}\n",
    "\n",
    "xdnn.xdnn_frontend.init(\n",
    "    platform=config['platform'],\n",
    "    xclbin=config['xclbin'],\n",
    "    memory=config['memory'],\n",
    "    dsp=config['dsp'],\n",
    "    netcfg=config['netcfg'],\n",
    "    quantizecfg=config['quantizecfg'],\n",
    "    weights_name=config['weights_name'],\n",
    "    input_shape=(1,1,4,4),\n",
    "    pngfile=config['pngfile'],\n",
    "    verbose=config['verbose']\n",
    ")\n",
    "\n",
    "if EXAMPLE == 1:\n",
    "    input_shape = (1,1,4,4)\n",
    "    input_type = 'float32'\n",
    "    output_shape = (1,1,2,2)\n",
    "    \n",
    "    data = np.reshape(np.array([[1,1,0,4],[5,1,0,8],\n",
    "                                [3,5,1,0],[1,9,3,4]]), input_shape)\n",
    "    x = sb.Variable(\"x\")\n",
    "    z = sb.max_pool2d(x, pool_size=[2,2], strides=[2,2])\n",
    "    graph = nnvm.graph.create(z)\n",
    "    print(graph.index.nodes)\n",
    "    \n",
    "    print(\"\\nNNVM COMPILER BUILD\\n\")\n",
    "    \n",
    "    params = {}\n",
    "    shape_dict = { 'x': input_shape }\n",
    "    dtype_dict = { 'x': input_type }\n",
    "    graph, lib, params = nnvm.compiler.build(\n",
    "                graph, target, shape_dict, dtype_dict,\n",
    "                params=params, target_host=target_host)\n",
    "    \n",
    "    print(graph.index.nodes)\n",
    "    print(lib)\n",
    "    print(params)\n",
    "\n",
    "    print(\"\\nXDNN SETUP FPGA EXECUTER\\n\")\n",
    "    #xdnn.xdnn_frontend.setup_fpga_executer()\n",
    "\n",
    "    print(\"\\nXDNN CREATE GRAPH RUNTIME\\n\")\n",
    "    #m = graph_runtime.create(graph, lib, ctx)\n",
    "    #m.set_input('x', tvm.nd.array(data.astype(input_type)))\n",
    "\n",
    "    #m.run()\n",
    "\n",
    "    #tvm_output = m.get_output(0, tvm.nd.empty(((1, 1, 2, 2)), 'float32'))\n",
    "\n",
    "    #print(tvm_output)\n",
    "    \n",
    "elif EXAMPLE == 2:\n",
    "    pass"
   ]
  },
  {
   "cell_type": "code",
   "execution_count": null,
   "metadata": {},
   "outputs": [],
   "source": []
  },
  {
   "cell_type": "code",
   "execution_count": null,
   "metadata": {},
   "outputs": [],
   "source": [
    "import os\n",
    "import xfdnn.rt.xdnn as xdnn_lib\n",
    "\n",
    "os.environ['XDNN_VERBOSE'] = \"1\"\n",
    "\n",
    "ret, handles = xdnn_lib.createHandle(\"../../../../MLsuite/overlaybins/alveo-u200/overlay_3.xclbin\")\n",
    "\n",
    "if ret:                                                         \n",
    "    print(\"ERROR: Unable to create handle to FPGA\")\n",
    "else:\n",
    "    print(\"INFO: Successfully created handle to FPGA\")"
   ]
  },
  {
   "cell_type": "code",
   "execution_count": null,
   "metadata": {},
   "outputs": [],
   "source": []
  }
 ],
 "metadata": {
  "kernelspec": {
   "display_name": "Python 3",
   "language": "python",
   "name": "python3"
  },
  "language_info": {
   "codemirror_mode": {
    "name": "ipython",
    "version": 3
   },
   "file_extension": ".py",
   "mimetype": "text/x-python",
   "name": "python",
   "nbconvert_exporter": "python",
   "pygments_lexer": "ipython3",
   "version": "3.6.7"
  }
 },
 "nbformat": 4,
 "nbformat_minor": 2
}
