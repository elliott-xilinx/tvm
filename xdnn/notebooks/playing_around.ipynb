{
 "cells": [
  {
   "cell_type": "code",
   "execution_count": 1,
   "metadata": {},
   "outputs": [],
   "source": [
    "import os\n",
    "import tvm\n",
    "import nnvm\n",
    "import topi\n",
    "\n",
    "import nnvm.symbol as sb\n",
    "from tvm.contrib import graph_runtime\n",
    "\n",
    "import numpy as np\n",
    "import tensorflow as tf\n",
    "\n",
    "EXAMPLE = 1\n",
    "target, target_host = 'llvm', 'llvm'\n",
    "ctx = tvm.cpu(0)\n",
    "\n",
    "os.environ['XDNN_VERBOSE'] = \"1\""
   ]
  },
  {
   "cell_type": "code",
   "execution_count": 2,
   "metadata": {},
   "outputs": [
    {
     "ename": "TabError",
     "evalue": "inconsistent use of tabs and spaces in indentation (xdnn_controller.py, line 138)",
     "output_type": "error",
     "traceback": [
      "Traceback \u001b[0;36m(most recent call last)\u001b[0m:\n",
      "  File \u001b[1;32m\"/usr/local/lib/python3.6/dist-packages/IPython/core/interactiveshell.py\"\u001b[0m, line \u001b[1;32m3296\u001b[0m, in \u001b[1;35mrun_code\u001b[0m\n    exec(code_obj, self.user_global_ns, self.user_ns)\n",
      "  File \u001b[1;32m\"<ipython-input-2-4628c659b99d>\"\u001b[0m, line \u001b[1;32m1\u001b[0m, in \u001b[1;35m<module>\u001b[0m\n    import xdnn\n",
      "  File \u001b[1;32m\"/workspace/tvm_proj/tvm/xdnn/python/xdnn/__init__.py\"\u001b[0m, line \u001b[1;32m11\u001b[0m, in \u001b[1;35m<module>\u001b[0m\n    from xdnn.xdnn_frontend import XDNNFrontend\n",
      "\u001b[0;36m  File \u001b[0;32m\"/workspace/tvm_proj/tvm/xdnn/python/xdnn/xdnn_frontend.py\"\u001b[0;36m, line \u001b[0;32m4\u001b[0;36m, in \u001b[0;35m<module>\u001b[0;36m\u001b[0m\n\u001b[0;31m    from xdnn.xdnn_controller import XDNNController\u001b[0m\n",
      "\u001b[0;36m  File \u001b[0;32m\"/workspace/tvm_proj/tvm/xdnn/python/xdnn/xdnn_controller.py\"\u001b[0;36m, line \u001b[0;32m138\u001b[0m\n\u001b[0;31m    print(\"Config: \".format(config))\u001b[0m\n\u001b[0m                                    ^\u001b[0m\n\u001b[0;31mTabError\u001b[0m\u001b[0;31m:\u001b[0m inconsistent use of tabs and spaces in indentation\n"
     ]
    }
   ],
   "source": [
    "import xdnn\n"
   ]
  },
  {
   "cell_type": "code",
   "execution_count": null,
   "metadata": {},
   "outputs": [],
   "source": [
    "platform = 'alveo-u200'\n",
    "\n",
    "config = {\n",
    "    'platform': platform,\n",
    "    'xclbin': \"../../../../MLsuite/overlaybins/\" + platform + \"/overlay_3.xclbin\",\n",
    "    'memory': 5,\n",
    "    'dsp': 56,\n",
    "    'netcfg': \"work/tvm_fpga.cmds.json\",\n",
    "    #'fromtensorflow': False,\n",
    "    'weightsdir_name': \"weights\", \n",
    "    #datadir': \"work/weights_data\",\n",
    "    'quantizecfg': \"\", # Empty for now to test if quantization is needed in this simple example\n",
    "    'pngfile': \"graph.png\",\n",
    "    'verbose': True\n",
    "}\n",
    "\n",
    "xdnn.xdnn_frontend.init(\n",
    "    platform=config['platform'],\n",
    "    xclbin=config['xclbin'],\n",
    "    memory=config['memory'],\n",
    "    dsp=config['dsp'],\n",
    "    netcfg=config['netcfg'],\n",
    "    weightsdir_name=config['weightsdir_name'],\n",
    "    pngfile=config['pngfile'],\n",
    "    verbose=config['verbose']\n",
    ")\n",
    "\n",
    "if EXAMPLE == 1:\n",
    "    input_shape = (1,1,4,4)\n",
    "    input_type = 'float32'\n",
    "    output_shape = (1,1,2,2)\n",
    "    \n",
    "    data = np.reshape(np.array([[1,1,0,4],[5,1,0,8],\n",
    "                                [3,5,1,0],[1,9,3,4]]), input_shape)\n",
    "    x = sb.Variable(\"x\")\n",
    "    z = sb.max_pool2d(x, pool_size=[2,2], strides=[2,2])\n",
    "    graph = nnvm.graph.create(z)\n",
    "    print(graph.index.nodes)\n",
    "    \n",
    "    params = {}\n",
    "    shape_dict = { 'x': input_shape }\n",
    "    dtype_dict = { 'x': input_type }\n",
    "    graph, lib, params = nnvm.compiler.build(\n",
    "                graph, target, shape_dict, dtype_dict,\n",
    "                params=params, target_host=target_host)\n",
    "    \n",
    "    print(graph.index.nodes)\n",
    "    print(lib)\n",
    "    print(params)\n",
    "    \n",
    "    m = graph_runtime.create(graph, lib, ctx)\n",
    "    m.set_input('x', tvm.nd.array(data.astype(input_type)))\n",
    "    \n",
    "    m.run()\n",
    "    \n",
    "    tvm_output = m.get_output(0, tvm.nd.empty(((1, 1, 2, 2)), 'float32'))\n",
    "    \n",
    "    print(tvm_output)"
   ]
  },
  {
   "cell_type": "code",
   "execution_count": 10,
   "metadata": {},
   "outputs": [
    {
     "name": "stdout",
     "output_type": "stream",
     "text": [
      "INFO: Successfully created handle to FPGA\n"
     ]
    }
   ],
   "source": [
    "import os\n",
    "import xfdnn.rt.xdnn as xdnn_lib\n",
    "\n",
    "os.environ['XDNN_VERBOSE'] = \"1\"\n",
    "\n",
    "ret, handles = xdnn_lib.createHandle(\"../../../../MLsuite/overlaybins/alveo-u200/overlay_3.xclbin\")\n",
    "\n",
    "if ret:                                                         \n",
    "    print(\"ERROR: Unable to create handle to FPGA\")\n",
    "else:\n",
    "    print(\"INFO: Successfully created handle to FPGA\")"
   ]
  },
  {
   "cell_type": "code",
   "execution_count": null,
   "metadata": {},
   "outputs": [],
   "source": []
  }
 ],
 "metadata": {
  "kernelspec": {
   "display_name": "Python 3",
   "language": "python",
   "name": "python3"
  },
  "language_info": {
   "codemirror_mode": {
    "name": "ipython",
    "version": 3
   },
   "file_extension": ".py",
   "mimetype": "text/x-python",
   "name": "python",
   "nbconvert_exporter": "python",
   "pygments_lexer": "ipython3",
   "version": "3.6.7"
  }
 },
 "nbformat": 4,
 "nbformat_minor": 2
}
